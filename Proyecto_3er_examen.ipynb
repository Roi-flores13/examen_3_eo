{
 "cells": [
  {
   "cell_type": "markdown",
   "id": "8b298605",
   "metadata": {},
   "source": [
    "___\n",
    "<img style=\"float: right; margin: 15px 15px 15px 15px;\" src=\"https://media.istockphoto.com/id/1493874000/es/vector/ilustraci%C3%B3n-de-medicina-preventiva.jpg?s=612x612&w=0&k=20&c=A3E4XsVlmY0Q7P1WQJFBenx2uqldGBL2BLK0cTKbWT0=\" width=\"400px\" height=\"180px\" />\n",
    "\n",
    "\n",
    "# <font color= #bbc28d> **EXAMEN 3** </font>\n",
    "#### <font color= #2E9AFE> `Proyecto 3 - Modelo para predecir el nivel de severidad de una enfermedad`</font>\n",
    "- <Strong> -- </Strong>\n",
    "- <Strong> Fecha </Strong>: 26/03/2025\n",
    "\n",
    "\n",
    "\n",
    "___\n",
    "\n",
    "<p style=\"text-align:right;\"> Imagen recuperada de: https://media.istockphoto.com/id/1493874000/es/vector/ilustraci%C3%B3n-de-medicina-preventiva.jpg?s=612x612&w=0&k=20&c=A3E4XsVlmY0Q7P1WQJFBenx2uqldGBL2BLK0cTKbWT0=</p>"
   ]
  },
  {
   "cell_type": "markdown",
   "id": "7eeb7816",
   "metadata": {},
   "source": [
    "## <font color= #bbc28d> **Objetivo** </font>\n",
    "El objetivo del proyecto es utilizar técnicas de aprendizaje automático supervisado para construir un modelo capaz de predecir el `nivel de severidad` de una enfermedad. Se utilizará una base de datos que contiene información clínica y factores de riesgo relacionados a dicha enfermedad. "
   ]
  },
  {
   "cell_type": "markdown",
   "id": "40ae73fb",
   "metadata": {},
   "source": [
    "## <font color= #bbc28d> **Caso 1 - Regresión Logística** </font>"
   ]
  },
  {
   "cell_type": "code",
   "execution_count": null,
   "id": "a5a2e97a",
   "metadata": {},
   "outputs": [],
   "source": [
    "# Importar librerías\n",
    "import pandas as pd\n",
    "import numpy as np\n",
    "import matplotlib.pyplot as plt\n",
    "import seaborn as sns\n",
    "from sklearn.preprocessing import StandardScaler\n",
    "from sklearn.linear_model import LogisticRegression\n",
    "from sklearn.svm import SVC\n",
    "from sklearn.model_selection import train_test_split\n",
    "from sklearn.metrics import confusion_matrix, classification_report, accuracy_score, precision_score, recall_score, f1_score\n",
    "import re"
   ]
  },
  {
   "cell_type": "code",
   "execution_count": 249,
   "id": "086c5d8d",
   "metadata": {},
   "outputs": [
    {
     "data": {
      "text/html": [
       "<div>\n",
       "<style scoped>\n",
       "    .dataframe tbody tr th:only-of-type {\n",
       "        vertical-align: middle;\n",
       "    }\n",
       "\n",
       "    .dataframe tbody tr th {\n",
       "        vertical-align: top;\n",
       "    }\n",
       "\n",
       "    .dataframe thead th {\n",
       "        text-align: right;\n",
       "    }\n",
       "</style>\n",
       "<table border=\"1\" class=\"dataframe\">\n",
       "  <thead>\n",
       "    <tr style=\"text-align: right;\">\n",
       "      <th></th>\n",
       "      <th>Age</th>\n",
       "      <th>Sex</th>\n",
       "      <th>TCh</th>\n",
       "      <th>HCh</th>\n",
       "      <th>LCh</th>\n",
       "      <th>Tr</th>\n",
       "      <th>BPS</th>\n",
       "      <th>Sm</th>\n",
       "      <th>Diabetes</th>\n",
       "      <th>Pred</th>\n",
       "    </tr>\n",
       "  </thead>\n",
       "  <tbody>\n",
       "    <tr>\n",
       "      <th>0</th>\n",
       "      <td>50</td>\n",
       "      <td>Male</td>\n",
       "      <td>272</td>\n",
       "      <td>68</td>\n",
       "      <td>188</td>\n",
       "      <td>82</td>\n",
       "      <td>124</td>\n",
       "      <td>Non-smoker</td>\n",
       "      <td>No</td>\n",
       "      <td>High</td>\n",
       "    </tr>\n",
       "    <tr>\n",
       "      <th>1</th>\n",
       "      <td>29</td>\n",
       "      <td>Female</td>\n",
       "      <td>275</td>\n",
       "      <td>68</td>\n",
       "      <td>183</td>\n",
       "      <td>84</td>\n",
       "      <td>129</td>\n",
       "      <td>Non-smoker</td>\n",
       "      <td>No</td>\n",
       "      <td>High</td>\n",
       "    </tr>\n",
       "    <tr>\n",
       "      <th>2</th>\n",
       "      <td>50</td>\n",
       "      <td>Male</td>\n",
       "      <td>268</td>\n",
       "      <td>55</td>\n",
       "      <td>189</td>\n",
       "      <td>111</td>\n",
       "      <td>119</td>\n",
       "      <td>Non-smoker</td>\n",
       "      <td>No</td>\n",
       "      <td>High</td>\n",
       "    </tr>\n",
       "    <tr>\n",
       "      <th>3</th>\n",
       "      <td>78</td>\n",
       "      <td>Female</td>\n",
       "      <td>194</td>\n",
       "      <td>50</td>\n",
       "      <td>120</td>\n",
       "      <td>94</td>\n",
       "      <td>113</td>\n",
       "      <td>Non-smoker</td>\n",
       "      <td>No</td>\n",
       "      <td>High</td>\n",
       "    </tr>\n",
       "    <tr>\n",
       "      <th>4</th>\n",
       "      <td>63</td>\n",
       "      <td>Male</td>\n",
       "      <td>229</td>\n",
       "      <td>35</td>\n",
       "      <td>182</td>\n",
       "      <td>214</td>\n",
       "      <td>160</td>\n",
       "      <td>Smoker</td>\n",
       "      <td>Yes</td>\n",
       "      <td>High</td>\n",
       "    </tr>\n",
       "  </tbody>\n",
       "</table>\n",
       "</div>"
      ],
      "text/plain": [
       "   Age     Sex  TCh  HCh  LCh   Tr  BPS          Sm Diabetes  Pred\n",
       "0   50    Male  272   68  188   82  124  Non-smoker       No  High\n",
       "1   29  Female  275   68  183   84  129  Non-smoker       No  High\n",
       "2   50    Male  268   55  189  111  119  Non-smoker       No  High\n",
       "3   78  Female  194   50  120   94  113  Non-smoker       No  High\n",
       "4   63    Male  229   35  182  214  160      Smoker      Yes  High"
      ]
     },
     "execution_count": 249,
     "metadata": {},
     "output_type": "execute_result"
    }
   ],
   "source": [
    "# Cargar los datos\n",
    "df = pd.read_csv('Datasets/train_data.csv')\n",
    "df.head()"
   ]
  },
  {
   "cell_type": "code",
   "execution_count": 250,
   "id": "4c158218",
   "metadata": {},
   "outputs": [
    {
     "data": {
      "text/plain": [
       "Age         0\n",
       "Sex         0\n",
       "TCh         0\n",
       "HCh         0\n",
       "LCh         0\n",
       "Tr          0\n",
       "BPS         0\n",
       "Sm          0\n",
       "Diabetes    0\n",
       "Pred        0\n",
       "dtype: int64"
      ]
     },
     "execution_count": 250,
     "metadata": {},
     "output_type": "execute_result"
    }
   ],
   "source": [
    "# Comprobar si existen valores nulos\n",
    "df.isnull().sum()"
   ]
  },
  {
   "cell_type": "markdown",
   "id": "42da9657",
   "metadata": {},
   "source": [
    "No contamos con datos nulos, por lo que no habrá que realizar alguna imputación."
   ]
  },
  {
   "cell_type": "code",
   "execution_count": 251,
   "id": "8bf5841e",
   "metadata": {},
   "outputs": [],
   "source": [
    "# Seleccionar solo columnas numéricas\n",
    "df_numericas = df.select_dtypes(include='number').columns"
   ]
  },
  {
   "cell_type": "code",
   "execution_count": 252,
   "id": "99d98649",
   "metadata": {},
   "outputs": [
    {
     "data": {
      "image/png": "[encoded data removed]",
      "text/plain": [
       "<Figure size 640x480 with 1 Axes>"
      ]
     },
     "metadata": {},
     "output_type": "display_data"
    },
    {
     "data": {
      "image/png": "[encoded data removed]",
      "text/plain": [
       "<Figure size 640x480 with 1 Axes>"
      ]
     },
     "metadata": {},
     "output_type": "display_data"
    },
    {
     "data": {
      "image/png": "[encoded data removed]",
      "text/plain": [
       "<Figure size 640x480 with 1 Axes>"
      ]
     },
     "metadata": {},
     "output_type": "display_data"
    },
    {
     "data": {
      "image/png": "[encoded data removed]",
      "text/plain": [
       "<Figure size 640x480 with 1 Axes>"
      ]
     },
     "metadata": {},
     "output_type": "display_data"
    },
    {
     "data": {
      "image/png": "[encoded data removed]",
      "text/plain": [
       "<Figure size 640x480 with 1 Axes>"
      ]
     },
     "metadata": {},
     "output_type": "display_data"
    },
    {
     "data": {
      "image/png": "[encoded data removed]",
      "text/plain": [
       "<Figure size 640x480 with 1 Axes>"
      ]
     },
     "metadata": {},
     "output_type": "display_data"
    }
   ],
   "source": [
    "# Verificar si hay datos atípicos\n",
    "for i in df_numericas:\n",
    "    sns.boxplot(df[i])\n",
    "    plt.show()"
   ]
  },
  {
   "cell_type": "markdown",
   "id": "893d2971",
   "metadata": {},
   "source": [
    "Contamos con algunos datos atípicos en la columna `Tr` la cuál creemos que hace referencia a los `Triglicéridos`. Los valores atípicos rondan entre los 250 y los 300 que si bien son niveles **altos** e irregulares en personas \"sanas\", no son valores imposibles de obtener en un estudio si es que cuentas con otro tipo de factores como obesidad o diabetes, entre otras más, por lo que no los trataremos y veremos que tal le va al modelo."
   ]
  },
  {
   "cell_type": "code",
   "execution_count": 253,
   "id": "d0baecec",
   "metadata": {},
   "outputs": [
    {
     "data": {
      "text/html": [
       "<div>\n",
       "<style scoped>\n",
       "    .dataframe tbody tr th:only-of-type {\n",
       "        vertical-align: middle;\n",
       "    }\n",
       "\n",
       "    .dataframe tbody tr th {\n",
       "        vertical-align: top;\n",
       "    }\n",
       "\n",
       "    .dataframe thead th {\n",
       "        text-align: right;\n",
       "    }\n",
       "</style>\n",
       "<table border=\"1\" class=\"dataframe\">\n",
       "  <thead>\n",
       "    <tr style=\"text-align: right;\">\n",
       "      <th></th>\n",
       "      <th>Age</th>\n",
       "      <th>TCh</th>\n",
       "      <th>HCh</th>\n",
       "      <th>LCh</th>\n",
       "      <th>Tr</th>\n",
       "      <th>BPS</th>\n",
       "    </tr>\n",
       "  </thead>\n",
       "  <tbody>\n",
       "    <tr>\n",
       "      <th>count</th>\n",
       "      <td>119.000000</td>\n",
       "      <td>119.000000</td>\n",
       "      <td>119.000000</td>\n",
       "      <td>119.000000</td>\n",
       "      <td>119.000000</td>\n",
       "      <td>119.000000</td>\n",
       "    </tr>\n",
       "    <tr>\n",
       "      <th>mean</th>\n",
       "      <td>53.369748</td>\n",
       "      <td>224.546218</td>\n",
       "      <td>57.739496</td>\n",
       "      <td>147.260504</td>\n",
       "      <td>132.126050</td>\n",
       "      <td>129.823529</td>\n",
       "    </tr>\n",
       "    <tr>\n",
       "      <th>std</th>\n",
       "      <td>16.096039</td>\n",
       "      <td>37.481464</td>\n",
       "      <td>11.393919</td>\n",
       "      <td>39.228462</td>\n",
       "      <td>60.799553</td>\n",
       "      <td>14.550116</td>\n",
       "    </tr>\n",
       "    <tr>\n",
       "      <th>min</th>\n",
       "      <td>25.000000</td>\n",
       "      <td>160.000000</td>\n",
       "      <td>31.000000</td>\n",
       "      <td>67.000000</td>\n",
       "      <td>80.000000</td>\n",
       "      <td>111.000000</td>\n",
       "    </tr>\n",
       "    <tr>\n",
       "      <th>25%</th>\n",
       "      <td>41.000000</td>\n",
       "      <td>188.000000</td>\n",
       "      <td>50.500000</td>\n",
       "      <td>115.000000</td>\n",
       "      <td>83.500000</td>\n",
       "      <td>119.000000</td>\n",
       "    </tr>\n",
       "    <tr>\n",
       "      <th>50%</th>\n",
       "      <td>55.000000</td>\n",
       "      <td>227.000000</td>\n",
       "      <td>62.000000</td>\n",
       "      <td>150.000000</td>\n",
       "      <td>111.000000</td>\n",
       "      <td>127.000000</td>\n",
       "    </tr>\n",
       "    <tr>\n",
       "      <th>75%</th>\n",
       "      <td>68.500000</td>\n",
       "      <td>259.500000</td>\n",
       "      <td>68.000000</td>\n",
       "      <td>181.000000</td>\n",
       "      <td>159.000000</td>\n",
       "      <td>138.000000</td>\n",
       "    </tr>\n",
       "    <tr>\n",
       "      <th>max</th>\n",
       "      <td>79.000000</td>\n",
       "      <td>277.000000</td>\n",
       "      <td>69.000000</td>\n",
       "      <td>220.000000</td>\n",
       "      <td>298.000000</td>\n",
       "      <td>168.000000</td>\n",
       "    </tr>\n",
       "  </tbody>\n",
       "</table>\n",
       "</div>"
      ],
      "text/plain": [
       "              Age         TCh         HCh         LCh          Tr         BPS\n",
       "count  119.000000  119.000000  119.000000  119.000000  119.000000  119.000000\n",
       "mean    53.369748  224.546218   57.739496  147.260504  132.126050  129.823529\n",
       "std     16.096039   37.481464   11.393919   39.228462   60.799553   14.550116\n",
       "min     25.000000  160.000000   31.000000   67.000000   80.000000  111.000000\n",
       "25%     41.000000  188.000000   50.500000  115.000000   83.500000  119.000000\n",
       "50%     55.000000  227.000000   62.000000  150.000000  111.000000  127.000000\n",
       "75%     68.500000  259.500000   68.000000  181.000000  159.000000  138.000000\n",
       "max     79.000000  277.000000   69.000000  220.000000  298.000000  168.000000"
      ]
     },
     "execution_count": 253,
     "metadata": {},
     "output_type": "execute_result"
    }
   ],
   "source": [
    "# Medidas de ditribución básica\n",
    "df.describe()"
   ]
  },
  {
   "cell_type": "code",
   "execution_count": 254,
   "id": "5ada810f",
   "metadata": {},
   "outputs": [
    {
     "data": {
      "text/html": [
       "<div>\n",
       "<style scoped>\n",
       "    .dataframe tbody tr th:only-of-type {\n",
       "        vertical-align: middle;\n",
       "    }\n",
       "\n",
       "    .dataframe tbody tr th {\n",
       "        vertical-align: top;\n",
       "    }\n",
       "\n",
       "    .dataframe thead th {\n",
       "        text-align: right;\n",
       "    }\n",
       "</style>\n",
       "<table border=\"1\" class=\"dataframe\">\n",
       "  <thead>\n",
       "    <tr style=\"text-align: right;\">\n",
       "      <th></th>\n",
       "      <th>Age</th>\n",
       "      <th>Sex</th>\n",
       "      <th>TCh</th>\n",
       "      <th>HCh</th>\n",
       "      <th>LCh</th>\n",
       "      <th>Tr</th>\n",
       "      <th>BPS</th>\n",
       "      <th>Sm</th>\n",
       "      <th>Diabetes</th>\n",
       "      <th>Pred</th>\n",
       "    </tr>\n",
       "  </thead>\n",
       "  <tbody>\n",
       "    <tr>\n",
       "      <th>0</th>\n",
       "      <td>50</td>\n",
       "      <td>1</td>\n",
       "      <td>272</td>\n",
       "      <td>68</td>\n",
       "      <td>188</td>\n",
       "      <td>82</td>\n",
       "      <td>124</td>\n",
       "      <td>0</td>\n",
       "      <td>0</td>\n",
       "      <td>2</td>\n",
       "    </tr>\n",
       "    <tr>\n",
       "      <th>1</th>\n",
       "      <td>29</td>\n",
       "      <td>0</td>\n",
       "      <td>275</td>\n",
       "      <td>68</td>\n",
       "      <td>183</td>\n",
       "      <td>84</td>\n",
       "      <td>129</td>\n",
       "      <td>0</td>\n",
       "      <td>0</td>\n",
       "      <td>2</td>\n",
       "    </tr>\n",
       "    <tr>\n",
       "      <th>2</th>\n",
       "      <td>50</td>\n",
       "      <td>1</td>\n",
       "      <td>268</td>\n",
       "      <td>55</td>\n",
       "      <td>189</td>\n",
       "      <td>111</td>\n",
       "      <td>119</td>\n",
       "      <td>0</td>\n",
       "      <td>0</td>\n",
       "      <td>2</td>\n",
       "    </tr>\n",
       "    <tr>\n",
       "      <th>3</th>\n",
       "      <td>78</td>\n",
       "      <td>0</td>\n",
       "      <td>194</td>\n",
       "      <td>50</td>\n",
       "      <td>120</td>\n",
       "      <td>94</td>\n",
       "      <td>113</td>\n",
       "      <td>0</td>\n",
       "      <td>0</td>\n",
       "      <td>2</td>\n",
       "    </tr>\n",
       "    <tr>\n",
       "      <th>4</th>\n",
       "      <td>63</td>\n",
       "      <td>1</td>\n",
       "      <td>229</td>\n",
       "      <td>35</td>\n",
       "      <td>182</td>\n",
       "      <td>214</td>\n",
       "      <td>160</td>\n",
       "      <td>1</td>\n",
       "      <td>1</td>\n",
       "      <td>2</td>\n",
       "    </tr>\n",
       "  </tbody>\n",
       "</table>\n",
       "</div>"
      ],
      "text/plain": [
       "   Age  Sex  TCh  HCh  LCh   Tr  BPS  Sm  Diabetes  Pred\n",
       "0   50    1  272   68  188   82  124   0         0     2\n",
       "1   29    0  275   68  183   84  129   0         0     2\n",
       "2   50    1  268   55  189  111  119   0         0     2\n",
       "3   78    0  194   50  120   94  113   0         0     2\n",
       "4   63    1  229   35  182  214  160   1         1     2"
      ]
     },
     "execution_count": 254,
     "metadata": {},
     "output_type": "execute_result"
    }
   ],
   "source": [
    "# Codificar las variables categóricas [binario]\n",
    "df['Sex'] = df['Sex'].map({'Male': 1, 'Female': 0})\n",
    "df['Sm'] = df['Sm'].map({'Smoker': 1, 'Non-smoker': 0})\n",
    "df['Diabetes'] = df['Diabetes'].map({'Yes': 1, 'No': 0})\n",
    "\n",
    "# Codificar la target [3 clases]\n",
    "df['Pred'] = df['Pred'].map({'Low': 0, 'Medium': 1, 'High': 2})\n",
    "\n",
    "df.head()"
   ]
  },
  {
   "cell_type": "code",
   "execution_count": 255,
   "id": "fb07094f",
   "metadata": {},
   "outputs": [
    {
     "data": {
      "text/plain": [
       "<Axes: xlabel='Pred', ylabel='count'>"
      ]
     },
     "execution_count": 255,
     "metadata": {},
     "output_type": "execute_result"
    },
    {
     "data": {
      "image/png": "[encoded data removed]",
      "text/plain": [
       "<Figure size 640x480 with 1 Axes>"
      ]
     },
     "metadata": {},
     "output_type": "display_data"
    }
   ],
   "source": [
    "# Ver la distribución de las clases\n",
    "sns.countplot(x='Pred', data=df)"
   ]
  },
  {
   "cell_type": "markdown",
   "id": "359f65c4",
   "metadata": {},
   "source": [
    "Vemos que nuestros datos están bastante balanceados en sus clases por lo que no hay necesidad de emplear técnicas de Oversampling o Undersampling."
   ]
  },
  {
   "cell_type": "code",
   "execution_count": 256,
   "id": "246ec5c4",
   "metadata": {},
   "outputs": [],
   "source": [
    "# Dividir nuestros datos en conjunto de prueba y entrenamiento\n",
    "X = df.drop(['Pred'], axis=1) \n",
    "y = df['Pred'] # Variable objetivo\n",
    "\n",
    "X_train, X_test, y_train, y_test = train_test_split(X, y, test_size=0.2, random_state=3, stratify=y)"
   ]
  },
  {
   "cell_type": "code",
   "execution_count": 257,
   "id": "dda9634c",
   "metadata": {},
   "outputs": [],
   "source": [
    "# Escalar los datos\n",
    "sc = StandardScaler()\n",
    "\n",
    "# Solo escalar las variables que originalmente eran numéricas\n",
    "X_train_num = X_train[df_numericas]\n",
    "X_test_num = X_test[df_numericas]\n",
    "\n",
    "# Dividir en 2 los datos\n",
    "X_train_cat = X_train.drop(columns=df_numericas)\n",
    "X_test_cat = X_test.drop(columns=df_numericas)\n",
    "\n",
    "# Entrenar y transformar\n",
    "X_train_sc = pd.DataFrame(sc.fit_transform(X_train_num), columns=df_numericas, index=X_train.index)\n",
    "X_test_sc = pd.DataFrame(sc.transform(X_test_num), columns=df_numericas, index=X_test.index)\n",
    "\n",
    "# Juntar ambas partes\n",
    "X_train_final = pd.concat([X_train_sc,X_train_cat], axis=1)\n",
    "X_test_final = pd.concat([X_test_sc,X_test_cat], axis=1)"
   ]
  },
  {
   "cell_type": "code",
   "execution_count": 258,
   "id": "0eeaea68",
   "metadata": {},
   "outputs": [
    {
     "name": "stdout",
     "output_type": "stream",
     "text": [
      "Fitting 5 folds for each of 45 candidates, totalling 225 fits\n",
      "Mejores parámetros: {'C': 1, 'penalty': 'l2', 'solver': 'lbfgs'}\n"
     ]
    }
   ],
   "source": [
    "from sklearn.model_selection import GridSearchCV\n",
    "\n",
    "# Lista de combinaciones válidas\n",
    "param_grid = [\n",
    "    {'penalty': ['l2'], 'C': [0.001, 0.01, 0.1, 1, 10], 'solver': ['lbfgs','newton-cg','sag','saga', 'newton-cholesky','liblinear']},\n",
    "    {'penalty': ['l1'], 'C': [0.001, 0.01, 0.1, 1, 10], 'solver': ['liblinear', 'saga']},\n",
    "    {'penalty': [None], 'solver': ['lbfgs','newton-cg','sag','saga', 'newton-cholesky']}\n",
    "]\n",
    "\n",
    "# Modelo base\n",
    "logreg = LogisticRegression(max_iter=10000)\n",
    "\n",
    "# Configurar GridSearchCV\n",
    "grid = GridSearchCV(logreg, param_grid, cv=5, scoring='f1_macro', verbose=1)\n",
    "\n",
    "# Ajustar el modelo\n",
    "grid.fit(X_train_final, y_train)\n",
    "\n",
    "print(\"Mejores parámetros:\", grid.best_params_)"
   ]
  },
  {
   "cell_type": "code",
   "execution_count": 259,
   "id": "72d5ca49",
   "metadata": {},
   "outputs": [
    {
     "name": "stdout",
     "output_type": "stream",
     "text": [
      "\n",
      "Reporte de clasificación:\n",
      "              precision    recall  f1-score   support\n",
      "\n",
      "           0       0.80      1.00      0.89         8\n",
      "           1       0.86      0.75      0.80         8\n",
      "           2       1.00      0.88      0.93         8\n",
      "\n",
      "    accuracy                           0.88        24\n",
      "   macro avg       0.89      0.88      0.87        24\n",
      "weighted avg       0.89      0.88      0.87        24\n",
      "\n",
      "\n",
      "Matriz de confusión:\n",
      "[[8 0 0]\n",
      " [2 6 0]\n",
      " [0 1 7]]\n"
     ]
    }
   ],
   "source": [
    "# Predecir con el mejor modelo\n",
    "best_model = grid.best_estimator_\n",
    "y_pred = best_model.predict(X_test_final)\n",
    "\n",
    "# Métricas\n",
    "print(\"\\nReporte de clasificación:\")\n",
    "print(classification_report(y_test, y_pred))\n",
    "\n",
    "print(\"\\nMatriz de confusión:\")\n",
    "print(confusion_matrix(y_test, y_pred))"
   ]
  },
  {
   "cell_type": "markdown",
   "id": "ce228e98",
   "metadata": {},
   "source": [
    "## <font color= #bbc28d> **Caso 2 - Support Vector Machine** </font>"
   ]
  }
 ],
 "metadata": {
  "kernelspec": {
   "display_name": "personal",
   "language": "python",
   "name": "python3"
  },
  "language_info": {
   "codemirror_mode": {
    "name": "ipython",
    "version": 3
   },
   "file_extension": ".py",
   "mimetype": "text/x-python",
   "name": "python",
   "nbconvert_exporter": "python",
   "pygments_lexer": "ipython3",
   "version": "3.11.8"
  }
 },
 "nbformat": 4,
 "nbformat_minor": 5
}
